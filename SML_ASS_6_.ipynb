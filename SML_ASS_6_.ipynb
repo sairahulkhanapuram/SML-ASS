{
  "nbformat": 4,
  "nbformat_minor": 0,
  "metadata": {
    "colab": {
      "provenance": [],
      "include_colab_link": true
    },
    "kernelspec": {
      "name": "python3",
      "display_name": "Python 3"
    },
    "language_info": {
      "name": "python"
    }
  },
  "cells": [
    {
      "cell_type": "markdown",
      "metadata": {
        "id": "view-in-github",
        "colab_type": "text"
      },
      "source": [
        "<a href=\"https://colab.research.google.com/github/sairahulkhanapuram/SML-ASS/blob/main/SML_ASS_6_.ipynb\" target=\"_parent\"><img src=\"https://colab.research.google.com/assets/colab-badge.svg\" alt=\"Open In Colab\"/></a>"
      ]
    },
    {
      "cell_type": "code",
      "execution_count": null,
      "metadata": {
        "id": "3baX5F3OcTMX"
      },
      "outputs": [],
      "source": [
        "import pandas as pd\n",
        "from sklearn.model_selection import train_test_split\n",
        "from sklearn.linear_model import LogisticRegression"
      ]
    },
    {
      "cell_type": "code",
      "source": [
        "data = {'Study_Hours': [10,5,15,2,12,8,14,3,11,6],\n",
        "        'Class_Attendance': [90, 60, 95, 30, 85,75,92,50,88,65],\n",
        "        'Previous_Exam_Score': [85,70,90,50,88,65,93,55,80,60],\n",
        "        'Group_Study': [1,0,1,0,1,0,1,0,1,0],\n",
        "        'Submission of Assignment': [100,80,100,40,90,70,95,60,85,75],\n",
        "        'Pass/Fail': [1,0,1,0,1,0,1,0,1,0]}\n",
        "df = pd.DataFrame(data)\n",
        "print(df)"
      ],
      "metadata": {
        "colab": {
          "base_uri": "https://localhost:8080/"
        },
        "id": "Ax-y2n2ockJO",
        "outputId": "5ed8344b-a520-4855-9cc9-70aa357273b7"
      },
      "execution_count": null,
      "outputs": [
        {
          "output_type": "stream",
          "name": "stdout",
          "text": [
            "   Study_Hours  Class_Attendance  Previous_Exam_Score  Group_Study  \\\n",
            "0           10                90                   85            1   \n",
            "1            5                60                   70            0   \n",
            "2           15                95                   90            1   \n",
            "3            2                30                   50            0   \n",
            "4           12                85                   88            1   \n",
            "5            8                75                   65            0   \n",
            "6           14                92                   93            1   \n",
            "7            3                50                   55            0   \n",
            "8           11                88                   80            1   \n",
            "9            6                65                   60            0   \n",
            "\n",
            "   Submission of Assignment  Pass/Fail  \n",
            "0                       100          1  \n",
            "1                        80          0  \n",
            "2                       100          1  \n",
            "3                        40          0  \n",
            "4                        90          1  \n",
            "5                        70          0  \n",
            "6                        95          1  \n",
            "7                        60          0  \n",
            "8                        85          1  \n",
            "9                        75          0  \n"
          ]
        }
      ]
    },
    {
      "cell_type": "code",
      "source": [
        "y = df['Pass/Fail']\n",
        "print(y)"
      ],
      "metadata": {
        "colab": {
          "base_uri": "https://localhost:8080/"
        },
        "id": "a1nhWnuactOb",
        "outputId": "de48f969-6161-4a03-8f4a-2971767ab130"
      },
      "execution_count": null,
      "outputs": [
        {
          "output_type": "stream",
          "name": "stdout",
          "text": [
            "0    1\n",
            "1    0\n",
            "2    1\n",
            "3    0\n",
            "4    1\n",
            "5    0\n",
            "6    1\n",
            "7    0\n",
            "8    1\n",
            "9    0\n",
            "Name: Pass/Fail, dtype: int64\n"
          ]
        }
      ]
    },
    {
      "cell_type": "code",
      "source": [
        "x=df.drop(\"Pass/Fail\",axis=1)\n",
        "print(x)"
      ],
      "metadata": {
        "colab": {
          "base_uri": "https://localhost:8080/"
        },
        "id": "Um5OyNagfx-E",
        "outputId": "406a7aca-c356-4a4f-d4ed-dbbfc06f796c"
      },
      "execution_count": null,
      "outputs": [
        {
          "output_type": "stream",
          "name": "stdout",
          "text": [
            "   Study_Hours  Class_Attendance  Previous_Exam_Score  Group_Study  \\\n",
            "0           10                90                   85            1   \n",
            "1            5                60                   70            0   \n",
            "2           15                95                   90            1   \n",
            "3            2                30                   50            0   \n",
            "4           12                85                   88            1   \n",
            "5            8                75                   65            0   \n",
            "6           14                92                   93            1   \n",
            "7            3                50                   55            0   \n",
            "8           11                88                   80            1   \n",
            "9            6                65                   60            0   \n",
            "\n",
            "   Submission of Assignment  \n",
            "0                       100  \n",
            "1                        80  \n",
            "2                       100  \n",
            "3                        40  \n",
            "4                        90  \n",
            "5                        70  \n",
            "6                        95  \n",
            "7                        60  \n",
            "8                        85  \n",
            "9                        75  \n"
          ]
        }
      ]
    },
    {
      "cell_type": "code",
      "source": [
        "w0=1\n",
        "w1=1\n",
        "w2=1\n",
        "w3=1\n",
        "w4=1\n",
        "w5=1\n",
        "z=w0*1+w1*x[\"Study_Hours\"]+w2*x[\"Class_Attendance\"]+w3*x[\"Previous_Exam_Score\"]+w4*x[\"Group_Study\"]+w5*x[\"Submission of Assignment\"]\n",
        "print(z)\n"
      ],
      "metadata": {
        "colab": {
          "base_uri": "https://localhost:8080/"
        },
        "id": "8JLKhpMMhJQg",
        "outputId": "3a96500b-8c87-4a01-8c62-2cf984b2aa13"
      },
      "execution_count": null,
      "outputs": [
        {
          "output_type": "stream",
          "name": "stdout",
          "text": [
            "0    287\n",
            "1    216\n",
            "2    302\n",
            "3    123\n",
            "4    277\n",
            "5    219\n",
            "6    296\n",
            "7    169\n",
            "8    266\n",
            "9    207\n",
            "dtype: int64\n"
          ]
        }
      ]
    },
    {
      "cell_type": "code",
      "source": [
        "yp=[]\n",
        "for i in range(10):\n",
        "  if z[i]>0:\n",
        "    yp=1;\n",
        "    print(yp)\n",
        "  else:\n",
        "    yp=0;\n",
        "    print(yp)\n"
      ],
      "metadata": {
        "colab": {
          "base_uri": "https://localhost:8080/"
        },
        "id": "4PFa4fobjzoO",
        "outputId": "ef3ebc11-2170-448f-e1c0-9beddd26daa9"
      },
      "execution_count": null,
      "outputs": [
        {
          "output_type": "stream",
          "name": "stdout",
          "text": [
            "1\n",
            "1\n",
            "1\n",
            "1\n",
            "1\n",
            "1\n",
            "1\n",
            "1\n",
            "1\n",
            "1\n"
          ]
        }
      ]
    },
    {
      "cell_type": "code",
      "source": [
        "error=y-yp\n",
        "print(error)"
      ],
      "metadata": {
        "colab": {
          "base_uri": "https://localhost:8080/"
        },
        "id": "ZD93AOPNk6G4",
        "outputId": "47660828-9ba6-41e2-e212-0739e91c6985"
      },
      "execution_count": null,
      "outputs": [
        {
          "output_type": "stream",
          "name": "stdout",
          "text": [
            "0    0\n",
            "1   -1\n",
            "2    0\n",
            "3   -1\n",
            "4    0\n",
            "5   -1\n",
            "6    0\n",
            "7   -1\n",
            "8    0\n",
            "9   -1\n",
            "Name: Pass/Fail, dtype: int64\n"
          ]
        }
      ]
    },
    {
      "cell_type": "code",
      "source": [
        "mean=error.mean()\n",
        "print(mean)\n"
      ],
      "metadata": {
        "colab": {
          "base_uri": "https://localhost:8080/"
        },
        "id": "ID4BZTyPl_kM",
        "outputId": "8305e9b7-b484-4763-f9d4-c4314aa66716"
      },
      "execution_count": null,
      "outputs": [
        {
          "output_type": "stream",
          "name": "stdout",
          "text": [
            "-0.5\n"
          ]
        }
      ]
    },
    {
      "cell_type": "code",
      "source": [
        "e_update=w0+0.01*mean\n",
        "print(e_update)\n",
        "e_update1=w1+0.01*mean\n",
        "print(e_update1)\n",
        "e_update2=w2+0.01*mean\n",
        "print(e_update2)\n",
        "e_update3=w3+0.01*mean\n",
        "print(e_update3)\n",
        "e_update4=w4+0.01*mean\n",
        "print(e_update4)\n",
        "e_update5=w5+0.01*mean\n",
        "print(e_update5)"
      ],
      "metadata": {
        "colab": {
          "base_uri": "https://localhost:8080/"
        },
        "id": "QbPDUhLWVwNX",
        "outputId": "8d6cbfa2-350a-4f2f-f478-d6914dcd263e"
      },
      "execution_count": null,
      "outputs": [
        {
          "output_type": "stream",
          "name": "stdout",
          "text": [
            "0.995\n",
            "0.995\n",
            "0.995\n",
            "0.995\n",
            "0.995\n",
            "0.995\n"
          ]
        }
      ]
    },
    {
      "cell_type": "code",
      "source": [
        "w0=e_update\n",
        "w1=e_update1\n",
        "w2=e_update2\n",
        "w3=e_update3\n",
        "w4=e_update4\n",
        "w5=e_update5\n",
        "z=w0*1+w1*x[\"Study_Hours\"]+w2*x[\"Class_Attendance\"]+w3*x[\"Previous_Exam_Score\"]+w4*x[\"Group_Study\"]+w5*x[\"Submission of Assignment\"]\n",
        "print(z)"
      ],
      "metadata": {
        "colab": {
          "base_uri": "https://localhost:8080/"
        },
        "id": "bL5WShSUWTW2",
        "outputId": "6047da42-0f8b-48ce-b986-c15be9242465"
      },
      "execution_count": null,
      "outputs": [
        {
          "output_type": "stream",
          "name": "stdout",
          "text": [
            "0    285.565\n",
            "1    214.920\n",
            "2    300.490\n",
            "3    122.385\n",
            "4    275.615\n",
            "5    217.905\n",
            "6    294.520\n",
            "7    168.155\n",
            "8    264.670\n",
            "9    205.965\n",
            "dtype: float64\n"
          ]
        }
      ]
    },
    {
      "cell_type": "code",
      "source": [
        "yp=[]\n",
        "for i in range(10):\n",
        "  if z[i]>0:\n",
        "    yp=1;\n",
        "    print(yp)\n",
        "  else:\n",
        "    yp=0;\n",
        "    print(yp)\n"
      ],
      "metadata": {
        "colab": {
          "base_uri": "https://localhost:8080/"
        },
        "id": "KHw6_8QHXd7O",
        "outputId": "4e87a955-9701-4ced-823a-a16e2479dd94"
      },
      "execution_count": null,
      "outputs": [
        {
          "output_type": "stream",
          "name": "stdout",
          "text": [
            "1\n",
            "1\n",
            "1\n",
            "1\n",
            "1\n",
            "1\n",
            "1\n",
            "1\n",
            "1\n",
            "1\n"
          ]
        }
      ]
    },
    {
      "cell_type": "code",
      "source": [
        "error=y-yp\n",
        "print(error)"
      ],
      "metadata": {
        "colab": {
          "base_uri": "https://localhost:8080/"
        },
        "id": "nV4gqfIcZT3Q",
        "outputId": "38ce1eee-86f1-4a8e-f6ed-9336cdd87a60"
      },
      "execution_count": null,
      "outputs": [
        {
          "output_type": "stream",
          "name": "stdout",
          "text": [
            "0    0\n",
            "1   -1\n",
            "2    0\n",
            "3   -1\n",
            "4    0\n",
            "5   -1\n",
            "6    0\n",
            "7   -1\n",
            "8    0\n",
            "9   -1\n",
            "Name: Pass/Fail, dtype: int64\n"
          ]
        }
      ]
    },
    {
      "cell_type": "code",
      "source": [
        "mean=error.mean()\n",
        "print(mean)"
      ],
      "metadata": {
        "colab": {
          "base_uri": "https://localhost:8080/"
        },
        "id": "Ja8-Arj0Zi4n",
        "outputId": "95522105-faaf-4fb1-c01f-813e5f644e22"
      },
      "execution_count": null,
      "outputs": [
        {
          "output_type": "stream",
          "name": "stdout",
          "text": [
            "-0.5\n"
          ]
        }
      ]
    },
    {
      "cell_type": "code",
      "source": [
        "e_update=w0+0.01*mean\n",
        "print(e_update)\n",
        "e_update1=w1+0.01*mean\n",
        "print(e_update1)\n",
        "e_update2=w2+0.01*mean\n",
        "print(e_update2)\n",
        "e_update3=w3+0.01*mean\n",
        "print(e_update3)\n",
        "e_update4=w4+0.01*mean\n",
        "print(e_update4)\n",
        "e_update5=w5+0.01*mean\n",
        "print(e_update5)"
      ],
      "metadata": {
        "colab": {
          "base_uri": "https://localhost:8080/"
        },
        "id": "vJNVYXpsZ3cY",
        "outputId": "51b2054a-4193-4d69-aa9d-d6a6c00194a8"
      },
      "execution_count": null,
      "outputs": [
        {
          "output_type": "stream",
          "name": "stdout",
          "text": [
            "0.99\n",
            "0.99\n",
            "0.99\n",
            "0.99\n",
            "0.99\n",
            "0.99\n"
          ]
        }
      ]
    },
    {
      "cell_type": "code",
      "source": [
        "w0=e_update\n",
        "w1=e_update1\n",
        "w2=e_update2\n",
        "w3=e_update3\n",
        "w4=e_update4\n",
        "w5=e_update5\n",
        "z=w0*1+w1*x[\"Study_Hours\"]+w2*x[\"Class_Attendance\"]+w3*x[\"Previous_Exam_Score\"]+w4*x[\"Group_Study\"]+w5*x[\"Submission of Assignment\"]\n",
        "print(z)"
      ],
      "metadata": {
        "colab": {
          "base_uri": "https://localhost:8080/"
        },
        "id": "30l-3KVFaWhK",
        "outputId": "fb47bb45-c97f-4772-8ca1-ce4e9e2dfa65"
      },
      "execution_count": null,
      "outputs": [
        {
          "output_type": "stream",
          "name": "stdout",
          "text": [
            "0    284.13\n",
            "1    213.84\n",
            "2    298.98\n",
            "3    121.77\n",
            "4    274.23\n",
            "5    216.81\n",
            "6    293.04\n",
            "7    167.31\n",
            "8    263.34\n",
            "9    204.93\n",
            "dtype: float64\n"
          ]
        }
      ]
    },
    {
      "cell_type": "code",
      "source": [
        "import pandas as pd\n",
        "a=pd.read_csv(\"/content/diabetes_data_upload (2).csv\")\n",
        "print(a)"
      ],
      "metadata": {
        "id": "YpWoaNhm1-F8",
        "outputId": "1e8998cd-4109-4362-8d2b-bfb97867c870",
        "colab": {
          "base_uri": "https://localhost:8080/"
        }
      },
      "execution_count": null,
      "outputs": [
        {
          "output_type": "stream",
          "name": "stdout",
          "text": [
            "     Age  Gender Polyuria Polydipsia sudden weight loss weakness Polyphagia  \\\n",
            "0     40    Male       No        Yes                 No      Yes         No   \n",
            "1     58    Male       No         No                 No      Yes         No   \n",
            "2     41    Male      Yes         No                 No      Yes        Yes   \n",
            "3     45    Male       No         No                Yes      Yes        Yes   \n",
            "4     60    Male      Yes        Yes                Yes      Yes        Yes   \n",
            "..   ...     ...      ...        ...                ...      ...        ...   \n",
            "515   39  Female      Yes        Yes                Yes       No        Yes   \n",
            "516   48  Female      Yes        Yes                Yes      Yes        Yes   \n",
            "517   58  Female      Yes        Yes                Yes      Yes        Yes   \n",
            "518   32  Female       No         No                 No      Yes         No   \n",
            "519   42    Male       No         No                 No       No         No   \n",
            "\n",
            "    Genital thrush visual blurring Itching Irritability delayed healing  \\\n",
            "0               No              No     Yes           No             Yes   \n",
            "1               No             Yes      No           No              No   \n",
            "2               No              No     Yes           No             Yes   \n",
            "3              Yes              No     Yes           No             Yes   \n",
            "4               No             Yes     Yes          Yes             Yes   \n",
            "..             ...             ...     ...          ...             ...   \n",
            "515             No              No     Yes           No             Yes   \n",
            "516             No              No     Yes          Yes             Yes   \n",
            "517             No             Yes      No           No              No   \n",
            "518             No             Yes     Yes           No             Yes   \n",
            "519             No              No      No           No              No   \n",
            "\n",
            "    partial paresis muscle stiffness Alopecia Obesity     class  \n",
            "0                No              Yes      Yes     Yes  Positive  \n",
            "1               Yes               No      Yes      No  Positive  \n",
            "2                No              Yes      Yes      No  Positive  \n",
            "3                No               No       No      No  Positive  \n",
            "4               Yes              Yes      Yes     Yes  Positive  \n",
            "..              ...              ...      ...     ...       ...  \n",
            "515             Yes               No       No      No  Positive  \n",
            "516             Yes               No       No      No  Positive  \n",
            "517             Yes              Yes       No     Yes  Positive  \n",
            "518              No               No      Yes      No  Negative  \n",
            "519              No               No       No      No  Negative  \n",
            "\n",
            "[520 rows x 17 columns]\n"
          ]
        }
      ]
    },
    {
      "cell_type": "code",
      "source": [
        "y = a['class']\n",
        "print(y)"
      ],
      "metadata": {
        "id": "Jlu6UhEy2mb_",
        "outputId": "9c630a82-daf4-4536-f5a7-c61d1b6936ad",
        "colab": {
          "base_uri": "https://localhost:8080/"
        }
      },
      "execution_count": null,
      "outputs": [
        {
          "output_type": "stream",
          "name": "stdout",
          "text": [
            "0      Positive\n",
            "1      Positive\n",
            "2      Positive\n",
            "3      Positive\n",
            "4      Positive\n",
            "         ...   \n",
            "515    Positive\n",
            "516    Positive\n",
            "517    Positive\n",
            "518    Negative\n",
            "519    Negative\n",
            "Name: class, Length: 520, dtype: object\n"
          ]
        }
      ]
    },
    {
      "cell_type": "code",
      "source": [
        "x=a.drop(\"class\",axis=1)\n",
        "print(x)"
      ],
      "metadata": {
        "id": "Gy2hHrFa3XyC",
        "outputId": "a753fabe-2063-4f8c-9dbf-058eab303fae",
        "colab": {
          "base_uri": "https://localhost:8080/"
        }
      },
      "execution_count": null,
      "outputs": [
        {
          "output_type": "stream",
          "name": "stdout",
          "text": [
            "     Age  Gender Polyuria Polydipsia sudden weight loss weakness Polyphagia  \\\n",
            "0     40    Male       No        Yes                 No      Yes         No   \n",
            "1     58    Male       No         No                 No      Yes         No   \n",
            "2     41    Male      Yes         No                 No      Yes        Yes   \n",
            "3     45    Male       No         No                Yes      Yes        Yes   \n",
            "4     60    Male      Yes        Yes                Yes      Yes        Yes   \n",
            "..   ...     ...      ...        ...                ...      ...        ...   \n",
            "515   39  Female      Yes        Yes                Yes       No        Yes   \n",
            "516   48  Female      Yes        Yes                Yes      Yes        Yes   \n",
            "517   58  Female      Yes        Yes                Yes      Yes        Yes   \n",
            "518   32  Female       No         No                 No      Yes         No   \n",
            "519   42    Male       No         No                 No       No         No   \n",
            "\n",
            "    Genital thrush visual blurring Itching Irritability delayed healing  \\\n",
            "0               No              No     Yes           No             Yes   \n",
            "1               No             Yes      No           No              No   \n",
            "2               No              No     Yes           No             Yes   \n",
            "3              Yes              No     Yes           No             Yes   \n",
            "4               No             Yes     Yes          Yes             Yes   \n",
            "..             ...             ...     ...          ...             ...   \n",
            "515             No              No     Yes           No             Yes   \n",
            "516             No              No     Yes          Yes             Yes   \n",
            "517             No             Yes      No           No              No   \n",
            "518             No             Yes     Yes           No             Yes   \n",
            "519             No              No      No           No              No   \n",
            "\n",
            "    partial paresis muscle stiffness Alopecia Obesity  \n",
            "0                No              Yes      Yes     Yes  \n",
            "1               Yes               No      Yes      No  \n",
            "2                No              Yes      Yes      No  \n",
            "3                No               No       No      No  \n",
            "4               Yes              Yes      Yes     Yes  \n",
            "..              ...              ...      ...     ...  \n",
            "515             Yes               No       No      No  \n",
            "516             Yes               No       No      No  \n",
            "517             Yes              Yes       No     Yes  \n",
            "518              No               No      Yes      No  \n",
            "519              No               No       No      No  \n",
            "\n",
            "[520 rows x 16 columns]\n"
          ]
        }
      ]
    },
    {
      "cell_type": "code",
      "source": [
        "a['class']=a['class'].replace({'Negative':0,'Positive':1})\n",
        "a['Polyuria']=a['Polyuria'].replace({'Yes':1,'No':0})\n",
        "a['Polyuria']=a['Polyuria'].replace({'Yes':1,'No':0})\n",
        "a['Gender']=a['Gender'].replace({'Male':1,'Female':0})\n",
        "a['Polyphagia']=a['Polyphagia'].replace({'Yes':1,'No':0})\n",
        "a['Polydipsia']=a['Polydipsia'].replace({'Yes':1,'No':0})\n",
        "a['sudden weight loss']=a['sudden weight loss'].replace({'Yes':1,'No':0})\n",
        "a['weakness']=a['weakness'].replace({'Yes':1,'No':0})\n",
        "a['Genital thrush']=a['Genital thrush'].replace({'Yes':1,'No':0})\n",
        "a['visual blurring']=a['visual blurring'].replace({'Yes':1,'No':0})\n",
        "a['Itching']=a['Itching'].replace({'Yes':1,'No':0})\n",
        "a['Irritability']=a['Irritability'].replace({'Yes':1,'No':0})\n",
        "a['delayed healing']=a['delayed healing'].replace({'Yes':1,'No':0})\n",
        "a['partial paresis']=a['partial paresis'].replace({'Yes':1,'No':0})\n",
        "a['muscle stiffness']=a['muscle stiffness'].replace({'Yes':1,'No':0})\n",
        "a['Alopecia']=a['Alopecia'].replace({'Yes':1,'No':0})\n",
        "a['Obesity']=a['Obesity'].replace({'Yes':1,'No':0})\n",
        "a['class']=a['class'].replace({'Positive':1,'Negative':0})\n",
        "print(a)"
      ],
      "metadata": {
        "id": "GjDAeBsXAN6s",
        "colab": {
          "base_uri": "https://localhost:8080/"
        },
        "outputId": "f01d654d-a656-4c05-bfdb-91e80541b8a8"
      },
      "execution_count": null,
      "outputs": [
        {
          "output_type": "stream",
          "name": "stdout",
          "text": [
            "     Age  Gender  Polyuria  Polydipsia  sudden weight loss  weakness  \\\n",
            "0     40       1         0           1                   0         1   \n",
            "1     58       1         0           0                   0         1   \n",
            "2     41       1         1           0                   0         1   \n",
            "3     45       1         0           0                   1         1   \n",
            "4     60       1         1           1                   1         1   \n",
            "..   ...     ...       ...         ...                 ...       ...   \n",
            "515   39       0         1           1                   1         0   \n",
            "516   48       0         1           1                   1         1   \n",
            "517   58       0         1           1                   1         1   \n",
            "518   32       0         0           0                   0         1   \n",
            "519   42       1         0           0                   0         0   \n",
            "\n",
            "     Polyphagia  Genital thrush  visual blurring  Itching  Irritability  \\\n",
            "0             0               0                0        1             0   \n",
            "1             0               0                1        0             0   \n",
            "2             1               0                0        1             0   \n",
            "3             1               1                0        1             0   \n",
            "4             1               0                1        1             1   \n",
            "..          ...             ...              ...      ...           ...   \n",
            "515           1               0                0        1             0   \n",
            "516           1               0                0        1             1   \n",
            "517           1               0                1        0             0   \n",
            "518           0               0                1        1             0   \n",
            "519           0               0                0        0             0   \n",
            "\n",
            "     delayed healing  partial paresis  muscle stiffness  Alopecia  Obesity  \\\n",
            "0                  1                0                 1         1        1   \n",
            "1                  0                1                 0         1        0   \n",
            "2                  1                0                 1         1        0   \n",
            "3                  1                0                 0         0        0   \n",
            "4                  1                1                 1         1        1   \n",
            "..               ...              ...               ...       ...      ...   \n",
            "515                1                1                 0         0        0   \n",
            "516                1                1                 0         0        0   \n",
            "517                0                1                 1         0        1   \n",
            "518                1                0                 0         1        0   \n",
            "519                0                0                 0         0        0   \n",
            "\n",
            "     class  \n",
            "0        1  \n",
            "1        1  \n",
            "2        1  \n",
            "3        1  \n",
            "4        1  \n",
            "..     ...  \n",
            "515      1  \n",
            "516      1  \n",
            "517      1  \n",
            "518      0  \n",
            "519      0  \n",
            "\n",
            "[520 rows x 17 columns]\n"
          ]
        }
      ]
    },
    {
      "cell_type": "code",
      "source": [
        "w0=1\n",
        "w1=3\n",
        "w2=2\n",
        "w3=4\n",
        "w4=1\n",
        "w5=2\n",
        "w6=3\n",
        "w7=1\n",
        "w8=2\n",
        "w9=1\n",
        "w10=3\n",
        "w11=1\n",
        "w12=2\n",
        "w13=1\n",
        "w14=3\n",
        "w15=1\n",
        "w16=2\n",
        "z=w0*1+w1*a['Age']+w2*a['Gender']+w3*a['Polyuria']+w4*a['Polydipsia']+w5*a['sudden weight loss']+w6*a['weakness']+w7*a['Polyphagia']+w8*a['Genital thrush']+w9*a['visual blurring']+w10*a['Itching']+w11*a['Irritability']+w12*a['delayed healing']+w13*a['partial paresis']+w14*a['muscle stiffness']+w15*a['Alopecia']+w16*a['Obesity']\n",
        "print(z)\n",
        "yp=[]\n",
        "for i in range(520):\n",
        "  if z[i]>0:\n",
        "    yp.append(1)\n",
        "  else:\n",
        "    yp.append(0)"
      ],
      "metadata": {
        "id": "xcBbVkwSGjbb",
        "outputId": "9563ea5c-35db-470b-9255-0161eda1dfa6",
        "colab": {
          "base_uri": "https://localhost:8080/"
        }
      },
      "execution_count": null,
      "outputs": [
        {
          "output_type": "stream",
          "name": "stdout",
          "text": [
            "0      138\n",
            "1      183\n",
            "2      143\n",
            "3      151\n",
            "4      208\n",
            "      ... \n",
            "515    132\n",
            "516    163\n",
            "517    193\n",
            "518    107\n",
            "519    129\n",
            "Length: 520, dtype: int64\n"
          ]
        }
      ]
    },
    {
      "cell_type": "code",
      "source": [
        "print(yp)"
      ],
      "metadata": {
        "id": "L7gVSZbLIOtZ",
        "outputId": "89ed53a3-ec9c-4ea2-c8c1-e61773d89ee0",
        "colab": {
          "base_uri": "https://localhost:8080/"
        }
      },
      "execution_count": null,
      "outputs": [
        {
          "output_type": "stream",
          "name": "stdout",
          "text": [
            "[1, 1, 1, 1, 1, 1, 1, 1, 1, 1, 1, 1, 1, 1, 1, 1, 1, 1, 1, 1, 1, 1, 1, 1, 1, 1, 1, 1, 1, 1, 1, 1, 1, 1, 1, 1, 1, 1, 1, 1, 1, 1, 1, 1, 1, 1, 1, 1, 1, 1, 1, 1, 1, 1, 1, 1, 1, 1, 1, 1, 1, 1, 1, 1, 1, 1, 1, 1, 1, 1, 1, 1, 1, 1, 1, 1, 1, 1, 1, 1, 1, 1, 1, 1, 1, 1, 1, 1, 1, 1, 1, 1, 1, 1, 1, 1, 1, 1, 1, 1, 1, 1, 1, 1, 1, 1, 1, 1, 1, 1, 1, 1, 1, 1, 1, 1, 1, 1, 1, 1, 1, 1, 1, 1, 1, 1, 1, 1, 1, 1, 1, 1, 1, 1, 1, 1, 1, 1, 1, 1, 1, 1, 1, 1, 1, 1, 1, 1, 1, 1, 1, 1, 1, 1, 1, 1, 1, 1, 1, 1, 1, 1, 1, 1, 1, 1, 1, 1, 1, 1, 1, 1, 1, 1, 1, 1, 1, 1, 1, 1, 1, 1, 1, 1, 1, 1, 1, 1, 1, 1, 1, 1, 1, 1, 1, 1, 1, 1, 1, 1, 1, 1, 1, 1, 1, 1, 1, 1, 1, 1, 1, 1, 1, 1, 1, 1, 1, 1, 1, 1, 1, 1, 1, 1, 1, 1, 1, 1, 1, 1, 1, 1, 1, 1, 1, 1, 1, 1, 1, 1, 1, 1, 1, 1, 1, 1, 1, 1, 1, 1, 1, 1, 1, 1, 1, 1, 1, 1, 1, 1, 1, 1, 1, 1, 1, 1, 1, 1, 1, 1, 1, 1, 1, 1, 1, 1, 1, 1, 1, 1, 1, 1, 1, 1, 1, 1, 1, 1, 1, 1, 1, 1, 1, 1, 1, 1, 1, 1, 1, 1, 1, 1, 1, 1, 1, 1, 1, 1, 1, 1, 1, 1, 1, 1, 1, 1, 1, 1, 1, 1, 1, 1, 1, 1, 1, 1, 1, 1, 1, 1, 1, 1, 1, 1, 1, 1, 1, 1, 1, 1, 1, 1, 1, 1, 1, 1, 1, 1, 1, 1, 1, 1, 1, 1, 1, 1, 1, 1, 1, 1, 1, 1, 1, 1, 1, 1, 1, 1, 1, 1, 1, 1, 1, 1, 1, 1, 1, 1, 1, 1, 1, 1, 1, 1, 1, 1, 1, 1, 1, 1, 1, 1, 1, 1, 1, 1, 1, 1, 1, 1, 1, 1, 1, 1, 1, 1, 1, 1, 1, 1, 1, 1, 1, 1, 1, 1, 1, 1, 1, 1, 1, 1, 1, 1, 1, 1, 1, 1, 1, 1, 1, 1, 1, 1, 1, 1, 1, 1, 1, 1, 1, 1, 1, 1, 1, 1, 1, 1, 1, 1, 1, 1, 1, 1, 1, 1, 1, 1, 1, 1, 1, 1, 1, 1, 1, 1, 1, 1, 1, 1, 1, 1, 1, 1, 1, 1, 1, 1, 1, 1, 1, 1, 1, 1, 1, 1, 1, 1, 1, 1, 1, 1, 1, 1, 1, 1, 1, 1, 1, 1, 1, 1, 1, 1, 1, 1, 1, 1, 1, 1, 1, 1, 1, 1, 1, 1, 1, 1, 1, 1]\n"
          ]
        }
      ]
    },
    {
      "cell_type": "code",
      "source": [
        "c=0\n",
        "for i in range(520):\n",
        "   if error[i]==0:\n",
        "     c=c+1\n",
        "print(c/520)"
      ],
      "metadata": {
        "id": "VgEkeoEANJAI",
        "outputId": "e5c1548b-3a59-41f4-9d6a-bc1483058cd9",
        "colab": {
          "base_uri": "https://localhost:8080/"
        }
      },
      "execution_count": null,
      "outputs": [
        {
          "output_type": "stream",
          "name": "stdout",
          "text": [
            "0.6153846153846154\n"
          ]
        }
      ]
    },
    {
      "cell_type": "code",
      "source": [
        "error=a['class'] - yp\n",
        "print(error)"
      ],
      "metadata": {
        "id": "HU6CJVD1Jh8y",
        "outputId": "b0053455-4423-4dd9-c6a9-ecf3cd6be488",
        "colab": {
          "base_uri": "https://localhost:8080/"
        }
      },
      "execution_count": null,
      "outputs": [
        {
          "output_type": "stream",
          "name": "stdout",
          "text": [
            "0      0\n",
            "1      0\n",
            "2      0\n",
            "3      0\n",
            "4      0\n",
            "      ..\n",
            "515    0\n",
            "516    0\n",
            "517    0\n",
            "518   -1\n",
            "519   -1\n",
            "Name: class, Length: 520, dtype: int64\n"
          ]
        }
      ]
    },
    {
      "cell_type": "code",
      "source": [
        "mean=error.mean()\n",
        "print(mean)"
      ],
      "metadata": {
        "id": "ztRBE-U8Kigo",
        "outputId": "735a4399-890e-43f4-da95-ee3ad3b06c5e",
        "colab": {
          "base_uri": "https://localhost:8080/"
        }
      },
      "execution_count": null,
      "outputs": [
        {
          "output_type": "stream",
          "name": "stdout",
          "text": [
            "-0.38461538461538464\n"
          ]
        }
      ]
    },
    {
      "cell_type": "code",
      "source": [
        "from math import e\n",
        "e_update=w0+0.01*mean\n",
        "print(e_update)\n",
        "e_update1=w1+0.01*mean\n",
        "print(e_update1)\n",
        "e_update2=w2+0.01*mean\n",
        "print(e_update2)\n",
        "e_update3=w3+0.01*mean\n",
        "print(e_update3)\n",
        "e_update4=w4+0.01*mean\n",
        "print(e_update4)\n",
        "e_update5=w5+0.01*mean\n",
        "print(e_update5)\n",
        "e_update6=w6+0.01*mean\n",
        "print(e_update6)\n",
        "e_update7=w7+0.01*mean\n",
        "print(e_update7)\n",
        "e_update8=w8+0.01*mean\n",
        "print(e_update8)\n",
        "e_update9=w9+0.01*mean\n",
        "print(e_update9)\n",
        "e_update10=w10+0.01*mean\n",
        "print(e_update10)\n",
        "e_update11=w11+0.01*mean\n",
        "print(e_update11)\n",
        "e_update12=w12+0.01*mean\n",
        "print(e_update12)\n",
        "e_update13=w13+0.01*mean\n",
        "print(e_update13)\n",
        "e_update14=w14+0.01*mean\n",
        "print(e_update14)\n",
        "e_update15=w15+0.01*mean\n",
        "print(e_update15)\n",
        "e_update16=w16+0.01*mean\n",
        "print(e_update16)"
      ],
      "metadata": {
        "id": "bwJcRGbyLvuV",
        "outputId": "6fa9dd20-b497-44ff-c6b2-915639774577",
        "colab": {
          "base_uri": "https://localhost:8080/"
        }
      },
      "execution_count": null,
      "outputs": [
        {
          "output_type": "stream",
          "name": "stdout",
          "text": [
            "0.9961538461538462\n",
            "2.996153846153846\n",
            "1.9961538461538462\n",
            "3.996153846153846\n",
            "0.9961538461538462\n",
            "1.9961538461538462\n",
            "2.996153846153846\n",
            "0.9961538461538462\n",
            "1.9961538461538462\n",
            "0.9961538461538462\n",
            "2.996153846153846\n",
            "0.9961538461538462\n",
            "1.9961538461538462\n",
            "0.9961538461538462\n",
            "2.996153846153846\n",
            "0.9961538461538462\n",
            "1.9961538461538462\n"
          ]
        }
      ]
    },
    {
      "cell_type": "code",
      "source": [
        "w0=e_update\n",
        "w1=e_update1\n",
        "w2=e_update2\n",
        "w3=e_update3\n",
        "w4=e_update4\n",
        "w5=e_update5\n",
        "w6=e_update6\n",
        "w7=e_update7\n",
        "w8=e_update8\n",
        "w9=e_update9\n",
        "w10=e_update10\n",
        "w11=e_update11\n",
        "w12=e_update12\n",
        "w13=e_update13\n",
        "w14=e_update14\n",
        "w15=e_update15\n",
        "w16=e_update16\n",
        "z=w0*1+w1*a['Age']+w2*a['Gender']+w3*a['Polyuria']+w4*a['Polydipsia']+w5*a['sudden weight loss']+w6*a['weakness']+w7*a['Polyphagia']+w8*a['Genital thrush']+w9*a['visual blurring']+w10*a['Itching']+w11*a['Irritability']+w12*a['delayed healing']+w13*a['partial paresis']+w14*a['muscle stiffness']+w15*a['Alopecia']+w16*a['Obesity']\n",
        "print(z)\n",
        "yp=[]\n",
        "for i in range(520):\n",
        "  if z[i]>0:\n",
        "    yp.append(1)\n",
        "  else:\n",
        "    yp.append(0)\n"
      ],
      "metadata": {
        "id": "W3xImgr_L9e-",
        "outputId": "518e4225-6330-4cf9-d56d-715e2f16535c",
        "colab": {
          "base_uri": "https://localhost:8080/"
        }
      },
      "execution_count": null,
      "outputs": [
        {
          "output_type": "stream",
          "name": "stdout",
          "text": [
            "0      137.811538\n",
            "1      182.753846\n",
            "2      142.807692\n",
            "3      150.796154\n",
            "4      207.711538\n",
            "          ...    \n",
            "515    131.819231\n",
            "516    162.776923\n",
            "517    192.738462\n",
            "518    106.853846\n",
            "519    128.830769\n",
            "Length: 520, dtype: float64\n"
          ]
        }
      ]
    },
    {
      "cell_type": "code",
      "source": [
        "print(yp)\n"
      ],
      "metadata": {
        "id": "FCrCfRDdMCbt",
        "outputId": "c6ff1243-30c5-4b8c-8af5-28b6633d5ad4",
        "colab": {
          "base_uri": "https://localhost:8080/"
        }
      },
      "execution_count": null,
      "outputs": [
        {
          "output_type": "stream",
          "name": "stdout",
          "text": [
            "[1, 1, 1, 1, 1, 1, 1, 1, 1, 1, 1, 1, 1, 1, 1, 1, 1, 1, 1, 1, 1, 1, 1, 1, 1, 1, 1, 1, 1, 1, 1, 1, 1, 1, 1, 1, 1, 1, 1, 1, 1, 1, 1, 1, 1, 1, 1, 1, 1, 1, 1, 1, 1, 1, 1, 1, 1, 1, 1, 1, 1, 1, 1, 1, 1, 1, 1, 1, 1, 1, 1, 1, 1, 1, 1, 1, 1, 1, 1, 1, 1, 1, 1, 1, 1, 1, 1, 1, 1, 1, 1, 1, 1, 1, 1, 1, 1, 1, 1, 1, 1, 1, 1, 1, 1, 1, 1, 1, 1, 1, 1, 1, 1, 1, 1, 1, 1, 1, 1, 1, 1, 1, 1, 1, 1, 1, 1, 1, 1, 1, 1, 1, 1, 1, 1, 1, 1, 1, 1, 1, 1, 1, 1, 1, 1, 1, 1, 1, 1, 1, 1, 1, 1, 1, 1, 1, 1, 1, 1, 1, 1, 1, 1, 1, 1, 1, 1, 1, 1, 1, 1, 1, 1, 1, 1, 1, 1, 1, 1, 1, 1, 1, 1, 1, 1, 1, 1, 1, 1, 1, 1, 1, 1, 1, 1, 1, 1, 1, 1, 1, 1, 1, 1, 1, 1, 1, 1, 1, 1, 1, 1, 1, 1, 1, 1, 1, 1, 1, 1, 1, 1, 1, 1, 1, 1, 1, 1, 1, 1, 1, 1, 1, 1, 1, 1, 1, 1, 1, 1, 1, 1, 1, 1, 1, 1, 1, 1, 1, 1, 1, 1, 1, 1, 1, 1, 1, 1, 1, 1, 1, 1, 1, 1, 1, 1, 1, 1, 1, 1, 1, 1, 1, 1, 1, 1, 1, 1, 1, 1, 1, 1, 1, 1, 1, 1, 1, 1, 1, 1, 1, 1, 1, 1, 1, 1, 1, 1, 1, 1, 1, 1, 1, 1, 1, 1, 1, 1, 1, 1, 1, 1, 1, 1, 1, 1, 1, 1, 1, 1, 1, 1, 1, 1, 1, 1, 1, 1, 1, 1, 1, 1, 1, 1, 1, 1, 1, 1, 1, 1, 1, 1, 1, 1, 1, 1, 1, 1, 1, 1, 1, 1, 1, 1, 1, 1, 1, 1, 1, 1, 1, 1, 1, 1, 1, 1, 1, 1, 1, 1, 1, 1, 1, 1, 1, 1, 1, 1, 1, 1, 1, 1, 1, 1, 1, 1, 1, 1, 1, 1, 1, 1, 1, 1, 1, 1, 1, 1, 1, 1, 1, 1, 1, 1, 1, 1, 1, 1, 1, 1, 1, 1, 1, 1, 1, 1, 1, 1, 1, 1, 1, 1, 1, 1, 1, 1, 1, 1, 1, 1, 1, 1, 1, 1, 1, 1, 1, 1, 1, 1, 1, 1, 1, 1, 1, 1, 1, 1, 1, 1, 1, 1, 1, 1, 1, 1, 1, 1, 1, 1, 1, 1, 1, 1, 1, 1, 1, 1, 1, 1, 1, 1, 1, 1, 1, 1, 1, 1, 1, 1, 1, 1, 1, 1, 1, 1, 1, 1, 1, 1, 1, 1, 1, 1, 1, 1, 1, 1, 1, 1, 1, 1, 1, 1, 1, 1, 1, 1, 1, 1, 1, 1, 1, 1, 1, 1, 1, 1, 1, 1, 1]\n"
          ]
        }
      ]
    },
    {
      "cell_type": "code",
      "source": [
        "c=0\n",
        "for i in range(520):\n",
        "  if error[i]==0:\n",
        "    c=c+1\n",
        "print(c/520)+"
      ],
      "metadata": {
        "id": "s5tvl_97MlDq",
        "outputId": "f727c8a2-44da-4a5d-8398-e46a954bb2af",
        "colab": {
          "base_uri": "https://localhost:8080/"
        }
      },
      "execution_count": null,
      "outputs": [
        {
          "output_type": "stream",
          "name": "stdout",
          "text": [
            "0.6153846153846154\n"
          ]
        }
      ]
    }
  ]
}