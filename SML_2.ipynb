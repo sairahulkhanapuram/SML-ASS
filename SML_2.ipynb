{
  "nbformat": 4,
  "nbformat_minor": 0,
  "metadata": {
    "colab": {
      "provenance": [],
      "authorship_tag": "ABX9TyNIZBVu2AAePL9zuVbW/6BS",
      "include_colab_link": true
    },
    "kernelspec": {
      "name": "python3",
      "display_name": "Python 3"
    },
    "language_info": {
      "name": "python"
    }
  },
  "cells": [
    {
      "cell_type": "markdown",
      "metadata": {
        "id": "view-in-github",
        "colab_type": "text"
      },
      "source": [
        "<a href=\"https://colab.research.google.com/github/sairahulkhanapuram/SML-ASS/blob/main/SML_2.ipynb\" target=\"_parent\"><img src=\"https://colab.research.google.com/assets/colab-badge.svg\" alt=\"Open In Colab\"/></a>"
      ]
    },
    {
      "cell_type": "code",
      "execution_count": null,
      "metadata": {
        "colab": {
          "base_uri": "https://localhost:8080/",
          "height": 472
        },
        "id": "Q8u9tl-eWXJj",
        "outputId": "a3135720-17a9-43af-e13a-6128484a6c2b"
      },
      "outputs": [
        {
          "output_type": "display_data",
          "data": {
            "text/plain": [
              "<Figure size 640x480 with 1 Axes>"
            ],
            "image/png": "[encoded data removed]"
          },
          "metadata": {}
        }
      ],
      "source": [
        "import numpy as np\n",
        "import scipy as sp\n",
        "import pandas as pd\n",
        "import matplotlib.pyplot as plt\n",
        "\n",
        "x={1.3,1.5,2.6,2.6,3.2,3.9,4.2,3.7,3.10,3.0,11,6.7,1.9}\n",
        "plt.hist(x,bins=5,color='red',density='true')\n",
        "plt.title('Histogram')\n",
        "plt.xlabel('value')\n",
        "plt.ylabel('density')\n",
        "plt.show()"
      ]
    },
    {
      "cell_type": "code",
      "source": [
        "import numpy as np\n",
        "from scipy import stats\n",
        "\n",
        "x=[12,13,56,23,41,28,51]\n",
        "y=[51,63,37,88,33,72,81]\n",
        "\n",
        "\n",
        "print(\"mean: \",np.mean(x))\n",
        "print(\"mean: \",np.mean(y))\n",
        "print(\"median: \",np.median(x))\n",
        "print(\"median: \",np.median(y))\n",
        "print(\"mode: \",stats.mode(x))\n",
        "print(\"mode: \",stats.mode(y))\n",
        "print(\"variance: \",np.var(x))\n",
        "print(\"variance: \",np.var(y))\n",
        "print(\"standard deviation: \",np.std(x))\n",
        "print(\"standard deviation: \",np.std(y))\n",
        "print(\"range: \",np.ptp(x))\n",
        "print(\"range: \",np.ptp(y))\n",
        "print(\"interquartile range: \",sp.stats.iqr(x))\n",
        "print(\"interquartile range: \",sp.stats.iqr(y))\n",
        "print(\"skewness: \",stats.skew(x))\n",
        "print(\"skewness: \",stats.skew(y))\n",
        "print(\"kurtosis: \",stats.kurtosis(x))\n",
        "print(\"kurtosis: \",stats.kurtosis(y))"
      ],
      "metadata": {
        "colab": {
          "base_uri": "https://localhost:8080/"
        },
        "id": "lbQcfGEcW4_3",
        "outputId": "0dbf4fc7-3dd2-479e-e72b-a4e5c694189f"
      },
      "execution_count": null,
      "outputs": [
        {
          "output_type": "stream",
          "name": "stdout",
          "text": [
            "mean:  32.0\n",
            "mean:  60.714285714285715\n",
            "median:  28.0\n",
            "median:  63.0\n",
            "mode:  ModeResult(mode=12, count=1)\n",
            "mode:  ModeResult(mode=33, count=1)\n",
            "variance:  268.0\n",
            "variance:  387.6326530612245\n",
            "standard deviation:  16.3707055437449\n",
            "standard deviation:  19.68838878784205\n",
            "range:  44\n",
            "range:  55\n",
            "interquartile range:  28.0\n",
            "interquartile range:  32.5\n",
            "skewness:  0.18755223867066048\n",
            "skewness:  -0.10160487226954186\n",
            "kurtosis:  -1.47684021258314\n",
            "kurtosis:  -1.4265295827972655\n"
          ]
        }
      ]
    },
    {
      "cell_type": "code",
      "source": [
        "import numpy as np\n",
        "from scipy import stats\n",
        "\n",
        "x={12,13,56,23,41,28,51}\n",
        "y={51,63,37,88,33,72,81}\n",
        "\n",
        "\n",
        "x_list = list(x)\n",
        "y_list = list(y)\n",
        "\n",
        "print(\"mean: \",np.mean(x_list))\n",
        "print(\"mean: \",np.mean(y_list))\n",
        "print(\"median: \",np.median(x_list))\n",
        "print(\"median: \",np.median(y_list))\n",
        "print(\"mode: \",stats.mode(x_list))\n",
        "print(\"mode: \",stats.mode(y_list))\n",
        "print(\"variance: \",np.var(x_list))\n",
        "print(\"variance: \",np.var(y_list))\n",
        "print(\"standard deviation: \",np.std(x_list))\n",
        "print(\"standard deviation: \",np.std(y_list))\n",
        "print(\"range: \",np.ptp(x_list))\n",
        "print(\"range: \",np.ptp(y_list))\n",
        "print(\"interquartile range: \",sp.stats.iqr(x_list))\n",
        "print(\"interquartile range: \",sp.stats.iqr(y_list))\n",
        "print(\"skewness: \",stats.skew(x_list))\n",
        "print(\"skewness: \",stats.skew(y_list))\n",
        "print(\"kurtosis: \",stats.kurtosis(x_list))\n",
        "print(\"kurtosis: \",stats.kurtosis(y_list))\n"
      ],
      "metadata": {
        "colab": {
          "base_uri": "https://localhost:8080/"
        },
        "id": "HvvjRZ5gXI4J",
        "outputId": "5ff0b8c1-8fea-4333-e3b5-250d9df750bb"
      },
      "execution_count": null,
      "outputs": [
        {
          "output_type": "stream",
          "name": "stdout",
          "text": [
            "mean:  32.0\n",
            "mean:  60.714285714285715\n",
            "median:  28.0\n",
            "median:  63.0\n",
            "mode:  ModeResult(mode=12, count=1)\n",
            "mode:  ModeResult(mode=33, count=1)\n",
            "variance:  268.0\n",
            "variance:  387.6326530612245\n",
            "standard deviation:  16.3707055437449\n",
            "standard deviation:  19.68838878784205\n",
            "range:  44\n",
            "range:  55\n",
            "interquartile range:  28.0\n",
            "interquartile range:  32.5\n",
            "skewness:  0.18755223867066048\n",
            "skewness:  -0.10160487226954186\n",
            "kurtosis:  -1.47684021258314\n",
            "kurtosis:  -1.4265295827972655\n"
          ]
        }
      ]
    }
  ]
}