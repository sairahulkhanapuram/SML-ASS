{
  "nbformat": 4,
  "nbformat_minor": 0,
  "metadata": {
    "colab": {
      "provenance": [],
      "include_colab_link": true
    },
    "kernelspec": {
      "name": "python3",
      "display_name": "Python 3"
    },
    "language_info": {
      "name": "python"
    }
  },
  "cells": [
    {
      "cell_type": "markdown",
      "metadata": {
        "id": "view-in-github",
        "colab_type": "text"
      },
      "source": [
        "<a href=\"https://colab.research.google.com/github/sairahulkhanapuram/SML-ASS/blob/main/sml_ass_7_(1).ipynb\" target=\"_parent\"><img src=\"https://colab.research.google.com/assets/colab-badge.svg\" alt=\"Open In Colab\"/></a>"
      ]
    },
    {
      "cell_type": "code",
      "execution_count": null,
      "metadata": {
        "id": "3Wm6X-fqGQBB",
        "colab": {
          "base_uri": "https://localhost:8080/"
        },
        "outputId": "fafd6435-b237-4d8c-f66c-7aa304f56b9d"
      },
      "outputs": [
        {
          "output_type": "stream",
          "name": "stdout",
          "text": [
            "    YearsExperience    Salary\n",
            "0               1.1   39343.0\n",
            "1               1.3   46205.0\n",
            "2               1.5   37731.0\n",
            "3               2.0   43525.0\n",
            "4               2.2   39891.0\n",
            "5               2.9   56642.0\n",
            "6               3.0   60150.0\n",
            "7               3.2   54445.0\n",
            "8               3.2   64445.0\n",
            "9               3.7   57189.0\n",
            "10              3.9   63218.0\n",
            "11              4.0   55794.0\n",
            "12              4.0   56957.0\n",
            "13              4.1   57081.0\n",
            "14              4.5   61111.0\n",
            "15              4.9   67938.0\n",
            "16              5.1   66029.0\n",
            "17              5.3   83088.0\n",
            "18              5.9   81363.0\n",
            "19              6.0   93940.0\n",
            "20              6.8   91738.0\n",
            "21              7.1   98273.0\n",
            "22              7.9  101302.0\n",
            "23              8.2  113812.0\n",
            "24              8.7  109431.0\n",
            "25              9.0  105582.0\n",
            "26              9.5  116969.0\n",
            "27              9.6  112635.0\n",
            "28             10.3  122391.0\n",
            "29             10.5  121872.0\n"
          ]
        }
      ],
      "source": [
        "import pandas as pd\n",
        "a=pd.read_csv(\"/content/Salary_Data (1).csv\")\n",
        "print(a)"
      ]
    },
    {
      "cell_type": "code",
      "source": [
        "y=a['Salary']\n",
        "print(y)"
      ],
      "metadata": {
        "colab": {
          "base_uri": "https://localhost:8080/"
        },
        "id": "qpjp-gt2HCGN",
        "outputId": "3403ffad-5979-4c2e-ae64-0dfc203d32c6"
      },
      "execution_count": null,
      "outputs": [
        {
          "output_type": "stream",
          "name": "stdout",
          "text": [
            "0      39343.0\n",
            "1      46205.0\n",
            "2      37731.0\n",
            "3      43525.0\n",
            "4      39891.0\n",
            "5      56642.0\n",
            "6      60150.0\n",
            "7      54445.0\n",
            "8      64445.0\n",
            "9      57189.0\n",
            "10     63218.0\n",
            "11     55794.0\n",
            "12     56957.0\n",
            "13     57081.0\n",
            "14     61111.0\n",
            "15     67938.0\n",
            "16     66029.0\n",
            "17     83088.0\n",
            "18     81363.0\n",
            "19     93940.0\n",
            "20     91738.0\n",
            "21     98273.0\n",
            "22    101302.0\n",
            "23    113812.0\n",
            "24    109431.0\n",
            "25    105582.0\n",
            "26    116969.0\n",
            "27    112635.0\n",
            "28    122391.0\n",
            "29    121872.0\n",
            "Name: Salary, dtype: float64\n"
          ]
        }
      ]
    },
    {
      "cell_type": "code",
      "source": [
        "x=a.drop(\"Salary\" ,axis=1)\n",
        "print(x)"
      ],
      "metadata": {
        "colab": {
          "base_uri": "https://localhost:8080/"
        },
        "id": "P7k-9ONOIJh-",
        "outputId": "525c767b-c4b7-4436-bdc6-258f5d9a28d3"
      },
      "execution_count": null,
      "outputs": [
        {
          "output_type": "stream",
          "name": "stdout",
          "text": [
            "    YearsExperience\n",
            "0               1.1\n",
            "1               1.3\n",
            "2               1.5\n",
            "3               2.0\n",
            "4               2.2\n",
            "5               2.9\n",
            "6               3.0\n",
            "7               3.2\n",
            "8               3.2\n",
            "9               3.7\n",
            "10              3.9\n",
            "11              4.0\n",
            "12              4.0\n",
            "13              4.1\n",
            "14              4.5\n",
            "15              4.9\n",
            "16              5.1\n",
            "17              5.3\n",
            "18              5.9\n",
            "19              6.0\n",
            "20              6.8\n",
            "21              7.1\n",
            "22              7.9\n",
            "23              8.2\n",
            "24              8.7\n",
            "25              9.0\n",
            "26              9.5\n",
            "27              9.6\n",
            "28             10.3\n",
            "29             10.5\n"
          ]
        }
      ]
    },
    {
      "cell_type": "code",
      "source": [
        "import matplotlib.pyplot as plt\n",
        "plt.scatter(x,y)\n",
        "plt.title('SALARY VS YEAR OF EXPERIENCE')\n",
        "plt.xlabel(\"Years of Experience\")\n",
        "plt.ylabel(\"Salary\")\n",
        "plt.show()"
      ],
      "metadata": {
        "colab": {
          "base_uri": "https://localhost:8080/",
          "height": 472
        },
        "id": "50CHSFPDIP_m",
        "outputId": "8c6cd965-6653-47f4-c246-d7b0ea6fc11d"
      },
      "execution_count": null,
      "outputs": [
        {
          "output_type": "display_data",
          "data": {
            "text/plain": [
              "<Figure size 640x480 with 1 Axes>"
            ],
            "image/png": "[encoded data removed]"
          },
          "metadata": {}
        }
      ]
    },
    {
      "cell_type": "code",
      "source": [
        "w0=1\n",
        "w1=1\n",
        "yp=w0+(w1*x)\n",
        "yp=yp.values\n",
        "print(y,yp)"
      ],
      "metadata": {
        "colab": {
          "base_uri": "https://localhost:8080/"
        },
        "id": "9O5o2YvqrAwB",
        "outputId": "98702b63-5590-4533-ef8f-764abd0a904a"
      },
      "execution_count": null,
      "outputs": [
        {
          "output_type": "stream",
          "name": "stdout",
          "text": [
            "0      39343.0\n",
            "1      46205.0\n",
            "2      37731.0\n",
            "3      43525.0\n",
            "4      39891.0\n",
            "5      56642.0\n",
            "6      60150.0\n",
            "7      54445.0\n",
            "8      64445.0\n",
            "9      57189.0\n",
            "10     63218.0\n",
            "11     55794.0\n",
            "12     56957.0\n",
            "13     57081.0\n",
            "14     61111.0\n",
            "15     67938.0\n",
            "16     66029.0\n",
            "17     83088.0\n",
            "18     81363.0\n",
            "19     93940.0\n",
            "20     91738.0\n",
            "21     98273.0\n",
            "22    101302.0\n",
            "23    113812.0\n",
            "24    109431.0\n",
            "25    105582.0\n",
            "26    116969.0\n",
            "27    112635.0\n",
            "28    122391.0\n",
            "29    121872.0\n",
            "Name: Salary, dtype: float64 [[ 2.1]\n",
            " [ 2.3]\n",
            " [ 2.5]\n",
            " [ 3. ]\n",
            " [ 3.2]\n",
            " [ 3.9]\n",
            " [ 4. ]\n",
            " [ 4.2]\n",
            " [ 4.2]\n",
            " [ 4.7]\n",
            " [ 4.9]\n",
            " [ 5. ]\n",
            " [ 5. ]\n",
            " [ 5.1]\n",
            " [ 5.5]\n",
            " [ 5.9]\n",
            " [ 6.1]\n",
            " [ 6.3]\n",
            " [ 6.9]\n",
            " [ 7. ]\n",
            " [ 7.8]\n",
            " [ 8.1]\n",
            " [ 8.9]\n",
            " [ 9.2]\n",
            " [ 9.7]\n",
            " [10. ]\n",
            " [10.5]\n",
            " [10.6]\n",
            " [11.3]\n",
            " [11.5]]\n"
          ]
        }
      ]
    },
    {
      "cell_type": "code",
      "source": [
        "error=[]\n",
        "for i in range(len(y)):\n",
        "  error.append((y[i]-yp[i])**2)\n",
        "import numpy as np\n",
        "print(np.array(error).mean())"
      ],
      "metadata": {
        "colab": {
          "base_uri": "https://localhost:8080/"
        },
        "id": "0WutPkWQs7HJ",
        "outputId": "104e1563-2312-4361-ab9a-1aab40928e75"
      },
      "execution_count": null,
      "outputs": [
        {
          "output_type": "stream",
          "name": "stdout",
          "text": [
            "6501848514.976666\n"
          ]
        }
      ]
    },
    {
      "cell_type": "code",
      "source": [
        "e_update=w0+0.01*np.mean(error)\n",
        "print(e_update)\n",
        "e_update1=w1+0.01*np.mean(error)\n",
        "print(e_update1)"
      ],
      "metadata": {
        "colab": {
          "base_uri": "https://localhost:8080/"
        },
        "id": "mPzRVqp6wphH",
        "outputId": "a68e76a9-0390-4f0a-f754-67fa66f131cb"
      },
      "execution_count": null,
      "outputs": [
        {
          "output_type": "stream",
          "name": "stdout",
          "text": [
            "65018486.14976667\n",
            "65018486.14976667\n"
          ]
        }
      ]
    },
    {
      "cell_type": "code",
      "source": [
        "w0=e_update\n",
        "w1=e_update1\n",
        "print(w0)\n",
        "print(w1)\n"
      ],
      "metadata": {
        "colab": {
          "base_uri": "https://localhost:8080/"
        },
        "id": "c8ysytbixzPo",
        "outputId": "d4a8313e-9a16-43e9-8358-06a0474c195f"
      },
      "execution_count": null,
      "outputs": [
        {
          "output_type": "stream",
          "name": "stdout",
          "text": [
            "65018486.14976667\n",
            "65018486.14976667\n"
          ]
        }
      ]
    },
    {
      "cell_type": "code",
      "source": [
        "yp=w0+(w1*x)\n",
        "yp=yp.values\n",
        "print(y,yp)\n"
      ],
      "metadata": {
        "colab": {
          "base_uri": "https://localhost:8080/"
        },
        "id": "UWauzqGbyUxh",
        "outputId": "bad6a7d4-3e6c-41f4-de38-e343dea1d429"
      },
      "execution_count": null,
      "outputs": [
        {
          "output_type": "stream",
          "name": "stdout",
          "text": [
            "0      39343.0\n",
            "1      46205.0\n",
            "2      37731.0\n",
            "3      43525.0\n",
            "4      39891.0\n",
            "5      56642.0\n",
            "6      60150.0\n",
            "7      54445.0\n",
            "8      64445.0\n",
            "9      57189.0\n",
            "10     63218.0\n",
            "11     55794.0\n",
            "12     56957.0\n",
            "13     57081.0\n",
            "14     61111.0\n",
            "15     67938.0\n",
            "16     66029.0\n",
            "17     83088.0\n",
            "18     81363.0\n",
            "19     93940.0\n",
            "20     91738.0\n",
            "21     98273.0\n",
            "22    101302.0\n",
            "23    113812.0\n",
            "24    109431.0\n",
            "25    105582.0\n",
            "26    116969.0\n",
            "27    112635.0\n",
            "28    122391.0\n",
            "29    121872.0\n",
            "Name: Salary, dtype: float64 [[1.36538821e+08]\n",
            " [1.49542518e+08]\n",
            " [1.62546215e+08]\n",
            " [1.95055458e+08]\n",
            " [2.08059156e+08]\n",
            " [2.53572096e+08]\n",
            " [2.60073945e+08]\n",
            " [2.73077642e+08]\n",
            " [2.73077642e+08]\n",
            " [3.05586885e+08]\n",
            " [3.18590582e+08]\n",
            " [3.25092431e+08]\n",
            " [3.25092431e+08]\n",
            " [3.31594279e+08]\n",
            " [3.57601674e+08]\n",
            " [3.83609068e+08]\n",
            " [3.96612766e+08]\n",
            " [4.09616463e+08]\n",
            " [4.48627554e+08]\n",
            " [4.55129403e+08]\n",
            " [5.07144192e+08]\n",
            " [5.26649738e+08]\n",
            " [5.78664527e+08]\n",
            " [5.98170073e+08]\n",
            " [6.30679316e+08]\n",
            " [6.50184861e+08]\n",
            " [6.82694105e+08]\n",
            " [6.89195953e+08]\n",
            " [7.34708893e+08]\n",
            " [7.47712591e+08]]\n"
          ]
        }
      ]
    },
    {
      "cell_type": "code",
      "source": [
        "from sklearn.model_selection import train_test_split\n",
        "x_train, x_test, y_train, y_test = train_test_split(x, y, test_size=0.4, random_state=20)\n",
        "print(x_test)\n",
        "print(y_test)\n",
        "print(x_train)\n",
        "print(y_train)\n"
      ],
      "metadata": {
        "colab": {
          "base_uri": "https://localhost:8080/"
        },
        "id": "UEkD_kp7pfU9",
        "outputId": "0cfca04f-353f-4130-ec57-24b2f841f1a1"
      },
      "execution_count": null,
      "outputs": [
        {
          "output_type": "stream",
          "name": "stdout",
          "text": [
            "    YearsExperience\n",
            "13              4.1\n",
            "4               2.2\n",
            "1               1.3\n",
            "10              3.9\n",
            "29             10.5\n",
            "12              4.0\n",
            "18              5.9\n",
            "27              9.6\n",
            "24              8.7\n",
            "23              8.2\n",
            "21              7.1\n",
            "5               2.9\n",
            "13     57081.0\n",
            "4      39891.0\n",
            "1      46205.0\n",
            "10     63218.0\n",
            "29    121872.0\n",
            "12     56957.0\n",
            "18     81363.0\n",
            "27    112635.0\n",
            "24    109431.0\n",
            "23    113812.0\n",
            "21     98273.0\n",
            "5      56642.0\n",
            "Name: Salary, dtype: float64\n",
            "    YearsExperience\n",
            "25              9.0\n",
            "19              6.0\n",
            "14              4.5\n",
            "17              5.3\n",
            "6               3.0\n",
            "16              5.1\n",
            "8               3.2\n",
            "0               1.1\n",
            "2               1.5\n",
            "7               3.2\n",
            "22              7.9\n",
            "11              4.0\n",
            "20              6.8\n",
            "9               3.7\n",
            "28             10.3\n",
            "15              4.9\n",
            "26              9.5\n",
            "3               2.0\n",
            "25    105582.0\n",
            "19     93940.0\n",
            "14     61111.0\n",
            "17     83088.0\n",
            "6      60150.0\n",
            "16     66029.0\n",
            "8      64445.0\n",
            "0      39343.0\n",
            "2      37731.0\n",
            "7      54445.0\n",
            "22    101302.0\n",
            "11     55794.0\n",
            "20     91738.0\n",
            "9      57189.0\n",
            "28    122391.0\n",
            "15     67938.0\n",
            "26    116969.0\n",
            "3      43525.0\n",
            "Name: Salary, dtype: float64\n"
          ]
        }
      ]
    },
    {
      "cell_type": "code",
      "source": [
        "x1=x_test\n",
        "y1=y_test\n",
        "print(x)\n",
        "print(y)"
      ],
      "metadata": {
        "colab": {
          "base_uri": "https://localhost:8080/"
        },
        "id": "iYM6wmv2yKjK",
        "outputId": "de66d6e6-84fd-4c6a-bbd2-152575b9d60c"
      },
      "execution_count": null,
      "outputs": [
        {
          "output_type": "stream",
          "name": "stdout",
          "text": [
            "    YearsExperience\n",
            "0               1.1\n",
            "1               1.3\n",
            "2               1.5\n",
            "3               2.0\n",
            "4               2.2\n",
            "5               2.9\n",
            "6               3.0\n",
            "7               3.2\n",
            "8               3.2\n",
            "9               3.7\n",
            "10              3.9\n",
            "11              4.0\n",
            "12              4.0\n",
            "13              4.1\n",
            "14              4.5\n",
            "15              4.9\n",
            "16              5.1\n",
            "17              5.3\n",
            "18              5.9\n",
            "19              6.0\n",
            "20              6.8\n",
            "21              7.1\n",
            "22              7.9\n",
            "23              8.2\n",
            "24              8.7\n",
            "25              9.0\n",
            "26              9.5\n",
            "27              9.6\n",
            "28             10.3\n",
            "29             10.5\n",
            "0      39343.0\n",
            "1      46205.0\n",
            "2      37731.0\n",
            "3      43525.0\n",
            "4      39891.0\n",
            "5      56642.0\n",
            "6      60150.0\n",
            "7      54445.0\n",
            "8      64445.0\n",
            "9      57189.0\n",
            "10     63218.0\n",
            "11     55794.0\n",
            "12     56957.0\n",
            "13     57081.0\n",
            "14     61111.0\n",
            "15     67938.0\n",
            "16     66029.0\n",
            "17     83088.0\n",
            "18     81363.0\n",
            "19     93940.0\n",
            "20     91738.0\n",
            "21     98273.0\n",
            "22    101302.0\n",
            "23    113812.0\n",
            "24    109431.0\n",
            "25    105582.0\n",
            "26    116969.0\n",
            "27    112635.0\n",
            "28    122391.0\n",
            "29    121872.0\n",
            "Name: Salary, dtype: float64\n"
          ]
        }
      ]
    },
    {
      "cell_type": "code",
      "source": [
        "w0=1\n",
        "w1=1\n",
        "yp1=w0+(w1*x1)\n",
        "yp1=yp1.values\n",
        "print(y1,yp1)"
      ],
      "metadata": {
        "colab": {
          "base_uri": "https://localhost:8080/"
        },
        "id": "cpe49bB1YxR4",
        "outputId": "a87e3be3-06ad-4d8d-924e-2fbe55cca04f"
      },
      "execution_count": null,
      "outputs": [
        {
          "output_type": "stream",
          "name": "stdout",
          "text": [
            "13     57081.0\n",
            "4      39891.0\n",
            "1      46205.0\n",
            "10     63218.0\n",
            "29    121872.0\n",
            "12     56957.0\n",
            "18     81363.0\n",
            "27    112635.0\n",
            "24    109431.0\n",
            "23    113812.0\n",
            "21     98273.0\n",
            "5      56642.0\n",
            "Name: Salary, dtype: float64 [[ 5.1]\n",
            " [ 3.2]\n",
            " [ 2.3]\n",
            " [ 4.9]\n",
            " [11.5]\n",
            " [ 5. ]\n",
            " [ 6.9]\n",
            " [10.6]\n",
            " [ 9.7]\n",
            " [ 9.2]\n",
            " [ 8.1]\n",
            " [ 3.9]]\n"
          ]
        }
      ]
    },
    {
      "cell_type": "code",
      "source": [
        "error=[]\n",
        "for i in range(len(y1)):\n",
        "  error.append((y.iloc[i]-yp1[i])**2)\n",
        "import numpy as np\n",
        "print(np.array(error).mean())"
      ],
      "metadata": {
        "colab": {
          "base_uri": "https://localhost:8080/"
        },
        "id": "KN9Qfky7ZRbe",
        "outputId": "d3fa2ec6-f7b3-4e5e-a9a7-f3371bd09213"
      },
      "execution_count": null,
      "outputs": [
        {
          "output_type": "stream",
          "name": "stdout",
          "text": [
            "2742284617.31\n"
          ]
        }
      ]
    },
    {
      "cell_type": "code",
      "source": [
        "import pandas as pd\n",
        "data = {'Feature1': [1.2,2.4,3.5,4.1,1.9,3.7,2.1,3.3,2.8,4],\n",
        "        'Feature2': [2.3,1.9,2.7,3,2.8,2.5,3.2,2.4,3.1,3.3],\n",
        "        'Feature3': [3.1,2.8,1.5,3.6,2.5,1.9,2.2,3,1.8,2.7],\n",
        "        'Feature4': [4.2,3.5,2.9,4.8,3.2,4,4.1,4.5,3.6,4.9],\n",
        "        'Target y': [15.6,13.1,12.4,18.2,14.1,16,14.5,17.3,14.9,19.2]}\n",
        "df = pd.DataFrame(data)\n",
        "print(df)"
      ],
      "metadata": {
        "colab": {
          "base_uri": "https://localhost:8080/"
        },
        "id": "5MeF8nygJvUe",
        "outputId": "3f3983a3-38cd-4af6-e459-0963b3b39b4c"
      },
      "execution_count": null,
      "outputs": [
        {
          "output_type": "stream",
          "name": "stdout",
          "text": [
            "   Feature1  Feature2  Feature3  Feature4  Target y\n",
            "0       1.2       2.3       3.1       4.2      15.6\n",
            "1       2.4       1.9       2.8       3.5      13.1\n",
            "2       3.5       2.7       1.5       2.9      12.4\n",
            "3       4.1       3.0       3.6       4.8      18.2\n",
            "4       1.9       2.8       2.5       3.2      14.1\n",
            "5       3.7       2.5       1.9       4.0      16.0\n",
            "6       2.1       3.2       2.2       4.1      14.5\n",
            "7       3.3       2.4       3.0       4.5      17.3\n",
            "8       2.8       3.1       1.8       3.6      14.9\n",
            "9       4.0       3.3       2.7       4.9      19.2\n"
          ]
        }
      ]
    },
    {
      "cell_type": "code",
      "source": [
        "y1=df['Target y']\n",
        "print(y1)"
      ],
      "metadata": {
        "colab": {
          "base_uri": "https://localhost:8080/"
        },
        "id": "Q2dc6AxiLvwI",
        "outputId": "47a70859-0274-4b92-ccd0-964bde297bf2"
      },
      "execution_count": null,
      "outputs": [
        {
          "output_type": "stream",
          "name": "stdout",
          "text": [
            "0    15.6\n",
            "1    13.1\n",
            "2    12.4\n",
            "3    18.2\n",
            "4    14.1\n",
            "5    16.0\n",
            "6    14.5\n",
            "7    17.3\n",
            "8    14.9\n",
            "9    19.2\n",
            "Name: Target y, dtype: float64\n"
          ]
        }
      ]
    },
    {
      "cell_type": "code",
      "source": [
        "x1=df.drop(\"Target y\",axis=1)\n",
        "print(x1)"
      ],
      "metadata": {
        "colab": {
          "base_uri": "https://localhost:8080/"
        },
        "id": "JFLTbxNnL5lw",
        "outputId": "231a6cd1-81e9-42f8-f054-8324836a8d72"
      },
      "execution_count": null,
      "outputs": [
        {
          "output_type": "stream",
          "name": "stdout",
          "text": [
            "   Feature1  Feature2  Feature3  Feature4\n",
            "0       1.2       2.3       3.1       4.2\n",
            "1       2.4       1.9       2.8       3.5\n",
            "2       3.5       2.7       1.5       2.9\n",
            "3       4.1       3.0       3.6       4.8\n",
            "4       1.9       2.8       2.5       3.2\n",
            "5       3.7       2.5       1.9       4.0\n",
            "6       2.1       3.2       2.2       4.1\n",
            "7       3.3       2.4       3.0       4.5\n",
            "8       2.8       3.1       1.8       3.6\n",
            "9       4.0       3.3       2.7       4.9\n"
          ]
        }
      ]
    },
    {
      "cell_type": "code",
      "source": [
        "import matplotlib.pyplot as plt\n",
        "plt.scatter(df['Feature1'],df['Target y'])\n",
        "plt.xlabel(\"Feature1\")\n",
        "plt.ylabel(\"Target y\")\n",
        "plt.show()\n",
        "\n",
        "import matplotlib.pyplot as plt\n",
        "plt.scatter(df['Feature2'],df['Target y'])\n",
        "plt.xlabel(\"Feature2\")\n",
        "plt.ylabel(\"Target y\")\n",
        "plt.show()\n",
        "\n",
        "import matplotlib.pyplot as plt\n",
        "plt.scatter(df['Feature3'],df['Target y'])\n",
        "plt.xlabel(\"Feature3\")\n",
        "plt.ylabel(\"Target y\")\n",
        "plt.show()\n",
        "\n",
        "import matplotlib.pyplot as plt\n",
        "plt.scatter(df['Feature4'],df['Target y'])\n",
        "plt.xlabel(\"Feature4\")\n",
        "plt.ylabel(\"Target y\")\n",
        "plt.show()"
      ],
      "metadata": {
        "colab": {
          "base_uri": "https://localhost:8080/",
          "height": 1000
        },
        "id": "dco_6o0wNWB2",
        "outputId": "9ec91749-8e82-4647-9f3e-da9344d5d30c"
      },
      "execution_count": null,
      "outputs": [
        {
          "output_type": "display_data",
          "data": {
            "text/plain": [
              "<Figure size 640x480 with 1 Axes>"
            ],
            "image/png": "[encoded data removed]"
          },
          "metadata": {}
        },
        {
          "output_type": "display_data",
          "data": {
            "text/plain": [
              "<Figure size 640x480 with 1 Axes>"
            ],
            "image/png": "[encoded data removed]"
          },
          "metadata": {}
        },
        {
          "output_type": "display_data",
          "data": {
            "text/plain": [
              "<Figure size 640x480 with 1 Axes>"
            ],
            "image/png": "[encoded data removed]"
          },
          "metadata": {}
        },
        {
          "output_type": "display_data",
          "data": {
            "text/plain": [
              "<Figure size 640x480 with 1 Axes>"
            ],
            "image/png": "[encoded data removed]"
          },
          "metadata": {}
        }
      ]
    },
    {
      "cell_type": "code",
      "source": [
        "w0=1\n",
        "w1=1\n",
        "w2=1\n",
        "w3=1\n",
        "w4=1\n",
        "ypp=w0+(w1*x)+(w2*x)+(w3*x)+(w4*x)\n",
        "ypp=ypp.values\n",
        "print(y1,ypp)"
      ],
      "metadata": {
        "colab": {
          "base_uri": "https://localhost:8080/"
        },
        "id": "vSEcG-jqOPLp",
        "outputId": "e89d964e-6601-4a45-c96f-7da36f23afe0"
      },
      "execution_count": null,
      "outputs": [
        {
          "output_type": "stream",
          "name": "stdout",
          "text": [
            "0    15.6\n",
            "1    13.1\n",
            "2    12.4\n",
            "3    18.2\n",
            "4    14.1\n",
            "5    16.0\n",
            "6    14.5\n",
            "7    17.3\n",
            "8    14.9\n",
            "9    19.2\n",
            "Name: Target y, dtype: float64 [[ 5.4]\n",
            " [ 6.2]\n",
            " [ 7. ]\n",
            " [ 9. ]\n",
            " [ 9.8]\n",
            " [12.6]\n",
            " [13. ]\n",
            " [13.8]\n",
            " [13.8]\n",
            " [15.8]\n",
            " [16.6]\n",
            " [17. ]\n",
            " [17. ]\n",
            " [17.4]\n",
            " [19. ]\n",
            " [20.6]\n",
            " [21.4]\n",
            " [22.2]\n",
            " [24.6]\n",
            " [25. ]\n",
            " [28.2]\n",
            " [29.4]\n",
            " [32.6]\n",
            " [33.8]\n",
            " [35.8]\n",
            " [37. ]\n",
            " [39. ]\n",
            " [39.4]\n",
            " [42.2]\n",
            " [43. ]]\n"
          ]
        }
      ]
    },
    {
      "cell_type": "code",
      "source": [
        "error=[]\n",
        "for i in range(len(y1)):\n",
        "  error.append((y1[i]-ypp[i])**2)\n",
        "import numpy as np\n",
        "print(np.array(error).mean())"
      ],
      "metadata": {
        "colab": {
          "base_uri": "https://localhost:8080/"
        },
        "id": "q6tGQVJYwRrw",
        "outputId": "fda8d290-649f-428e-a4cd-a81d99552267"
      },
      "execution_count": null,
      "outputs": [
        {
          "output_type": "stream",
          "name": "stdout",
          "text": [
            "32.277\n"
          ]
        }
      ]
    },
    {
      "cell_type": "code",
      "source": [
        "e_update=w0+0.01*np.mean(error)\n",
        "print(e_update)\n",
        "e_update1=w1+0.01*np.mean(error)\n",
        "print(e_update1)\n",
        "e_update2=w2+0.01*np.mean(error)\n",
        "print(e_update2)\n",
        "e_update3=w3+0.01*np.mean(error)\n",
        "print(e_update3)\n"
      ],
      "metadata": {
        "colab": {
          "base_uri": "https://localhost:8080/"
        },
        "id": "GnM6nDaczq40",
        "outputId": "665c477d-3f0f-4309-caf3-f4b6efba824e"
      },
      "execution_count": null,
      "outputs": [
        {
          "output_type": "stream",
          "name": "stdout",
          "text": [
            "1.32277\n",
            "1.32277\n",
            "1.32277\n",
            "1.32277\n"
          ]
        }
      ]
    },
    {
      "cell_type": "code",
      "source": [
        "w0=e_update\n",
        "w1=e_update1\n",
        "w2=e_update2\n",
        "w3=e_update3\n",
        "print(w0)\n",
        "print(w1)\n",
        "print(w2)\n",
        "print(w3)"
      ],
      "metadata": {
        "colab": {
          "base_uri": "https://localhost:8080/"
        },
        "id": "agJoSkcj0YNu",
        "outputId": "15dd2d2f-ac05-4bf4-eafb-2ef2206a53c2"
      },
      "execution_count": null,
      "outputs": [
        {
          "output_type": "stream",
          "name": "stdout",
          "text": [
            "1.32277\n",
            "1.32277\n",
            "1.32277\n",
            "1.32277\n"
          ]
        }
      ]
    },
    {
      "cell_type": "code",
      "source": [
        "ypp1=w0+(w1*x1)+(w2*x1)+(w3*x1)+(w4*x1)\n",
        "ypp1=ypp1.values\n",
        "print(y1,ypp1)"
      ],
      "metadata": {
        "colab": {
          "base_uri": "https://localhost:8080/"
        },
        "id": "x7tjxRp000kv",
        "outputId": "70e3da0b-894e-4aee-bc70-2fe5b380b927"
      },
      "execution_count": null,
      "outputs": [
        {
          "output_type": "stream",
          "name": "stdout",
          "text": [
            "0    15.6\n",
            "1    13.1\n",
            "2    12.4\n",
            "3    18.2\n",
            "4    14.1\n",
            "5    16.0\n",
            "6    14.5\n",
            "7    17.3\n",
            "8    14.9\n",
            "9    19.2\n",
            "Name: Target y, dtype: float64 [[ 5.8 10.2 13.4 17.8]\n",
            " [10.6  8.6 12.2 15. ]\n",
            " [15.  11.8  7.  12.6]\n",
            " [17.4 13.  15.4 20.2]\n",
            " [ 8.6 12.2 11.  13.8]\n",
            " [15.8 11.   8.6 17. ]\n",
            " [ 9.4 13.8  9.8 17.4]\n",
            " [14.2 10.6 13.  19. ]\n",
            " [12.2 13.4  8.2 15.4]\n",
            " [17.  14.2 11.8 20.6]]\n"
          ]
        }
      ]
    },
    {
      "cell_type": "code",
      "source": [
        "error=[]\n",
        "for i in range(len(y1)):\n",
        "  error.append((y1[i]-ypp1[i])**2)\n",
        "import numpy as np\n",
        "print(np.array(error).mean())"
      ],
      "metadata": {
        "id": "srAKcdS3njjf",
        "colab": {
          "base_uri": "https://localhost:8080/"
        },
        "outputId": "2f9bd1d4-c6e2-48b4-d505-66ef1f30c0b4"
      },
      "execution_count": null,
      "outputs": [
        {
          "output_type": "stream",
          "name": "stdout",
          "text": [
            "16.003\n"
          ]
        }
      ]
    },
    {
      "cell_type": "code",
      "source": [
        "from sklearn.model_selection import train_test_split\n",
        "x1_train, x1_test, y1_train, y1_test = train_test_split(x1, y1, test_size=00.4, random_state=25)\n",
        "print(x1_test)\n",
        "print(y1_test)\n",
        "print(x1_train)\n",
        "print(y1_train)\n"
      ],
      "metadata": {
        "colab": {
          "base_uri": "https://localhost:8080/"
        },
        "id": "IRJD_wVZuuoA",
        "outputId": "0031c29d-21dc-4303-e9b7-98a39a8d7ab2"
      },
      "execution_count": null,
      "outputs": [
        {
          "output_type": "stream",
          "name": "stdout",
          "text": [
            "   Feature1  Feature2  Feature3  Feature4\n",
            "5       3.7       2.5       1.9       4.0\n",
            "1       2.4       1.9       2.8       3.5\n",
            "3       4.1       3.0       3.6       4.8\n",
            "8       2.8       3.1       1.8       3.6\n",
            "5    16.0\n",
            "1    13.1\n",
            "3    18.2\n",
            "8    14.9\n",
            "Name: Target y, dtype: float64\n",
            "   Feature1  Feature2  Feature3  Feature4\n",
            "0       1.2       2.3       3.1       4.2\n",
            "2       3.5       2.7       1.5       2.9\n",
            "9       4.0       3.3       2.7       4.9\n",
            "7       3.3       2.4       3.0       4.5\n",
            "6       2.1       3.2       2.2       4.1\n",
            "4       1.9       2.8       2.5       3.2\n",
            "0    15.6\n",
            "2    12.4\n",
            "9    19.2\n",
            "7    17.3\n",
            "6    14.5\n",
            "4    14.1\n",
            "Name: Target y, dtype: float64\n"
          ]
        }
      ]
    },
    {
      "cell_type": "code",
      "source": [
        "x=x1_test\n",
        "print(x)\n"
      ],
      "metadata": {
        "colab": {
          "base_uri": "https://localhost:8080/"
        },
        "id": "UZ6R254evr0h",
        "outputId": "f8f2d37c-a6b4-4f1d-d459-f02bf26f5667"
      },
      "execution_count": null,
      "outputs": [
        {
          "output_type": "stream",
          "name": "stdout",
          "text": [
            "   Feature1  Feature2  Feature3  Feature4\n",
            "5       3.7       2.5       1.9       4.0\n",
            "1       2.4       1.9       2.8       3.5\n",
            "3       4.1       3.0       3.6       4.8\n",
            "8       2.8       3.1       1.8       3.6\n"
          ]
        }
      ]
    },
    {
      "cell_type": "code",
      "source": [
        "y=y1_test\n",
        "print(y)"
      ],
      "metadata": {
        "colab": {
          "base_uri": "https://localhost:8080/"
        },
        "id": "zvs6VcRLwdbr",
        "outputId": "5808397a-3b06-405e-8981-8b6d0de82c23"
      },
      "execution_count": null,
      "outputs": [
        {
          "output_type": "stream",
          "name": "stdout",
          "text": [
            "5    16.0\n",
            "1    13.1\n",
            "3    18.2\n",
            "8    14.9\n",
            "Name: Target y, dtype: float64\n"
          ]
        }
      ]
    },
    {
      "cell_type": "code",
      "source": [
        "w0=1\n",
        "w1=1\n",
        "w2=1\n",
        "w3=1\n",
        "w4=1\n",
        "yp1=w0+(w1*x)+(w2*x)+(w3*x)+(w4*x)\n",
        "yp1=yp1.values\n",
        "print(y,yp1)"
      ],
      "metadata": {
        "colab": {
          "base_uri": "https://localhost:8080/"
        },
        "id": "mUEJJAqIwotL",
        "outputId": "7751354e-fd07-442a-a162-beaaf145bd48"
      },
      "execution_count": null,
      "outputs": [
        {
          "output_type": "stream",
          "name": "stdout",
          "text": [
            "5    16.0\n",
            "1    13.1\n",
            "3    18.2\n",
            "8    14.9\n",
            "Name: Target y, dtype: float64 [[15.8 11.   8.6 17. ]\n",
            " [10.6  8.6 12.2 15. ]\n",
            " [17.4 13.  15.4 20.2]\n",
            " [12.2 13.4  8.2 15.4]]\n"
          ]
        }
      ]
    },
    {
      "cell_type": "code",
      "source": [
        "error=[]\n",
        "for i in range(len(y)):\n",
        "  error.append((y.iloc[i]-yp1[i])**2)\n",
        "import numpy as np\n",
        "print(np.array(error).mean())"
      ],
      "metadata": {
        "colab": {
          "base_uri": "https://localhost:8080/"
        },
        "id": "eZjkygoPxHmr",
        "outputId": "8c587054-888e-4ed8-dc06-728021cf0467"
      },
      "execution_count": null,
      "outputs": [
        {
          "output_type": "stream",
          "name": "stdout",
          "text": [
            "12.870000000000001\n"
          ]
        }
      ]
    }
  ]
}